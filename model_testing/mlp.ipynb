{
 "cells": [
  {
   "cell_type": "markdown",
   "metadata": {},
   "source": [
    "# MLP\n",
    "\n",
    "This is an MLP model that explores using a single vector derived from pre-trained word embedding vectors.\n"
   ]
  },
  {
   "cell_type": "markdown",
   "metadata": {},
   "source": [
    "Step 1: Importing the required libraries"
   ]
  },
  {
   "cell_type": "code",
   "execution_count": 45,
   "metadata": {},
   "outputs": [],
   "source": [
    "import numpy as np\n",
    "import pandas as pd\n",
    "from gensim.models import KeyedVectors"
   ]
  },
  {
   "cell_type": "markdown",
   "metadata": {},
   "source": [
    "Step 2: Loading the pre-trained glove vector embedding model "
   ]
  },
  {
   "cell_type": "code",
   "execution_count": 46,
   "metadata": {},
   "outputs": [],
   "source": [
    "# Load pre-trained embedding layer\n",
    "filename = \"C:\\\\Users\\\\ryanm\\\\OneDrive\\\\Desktop\\\\deep learning\\\\assignments\\\\Deep-Learning-Assignment-2\\\\glove.6B.300d.txt.word2vec\"\n",
    "glove = KeyedVectors.load_word2vec_format(filename, binary=False) # for now binary is true"
   ]
  },
  {
   "cell_type": "markdown",
   "metadata": {},
   "source": [
    "Step 3: Load training and testing data"
   ]
  },
  {
   "cell_type": "code",
   "execution_count": 71,
   "metadata": {},
   "outputs": [
    {
     "name": "stdout",
     "output_type": "stream",
     "text": [
      "(2000,)\n"
     ]
    }
   ],
   "source": [
    "# Load the training dataset\n",
    "df_training = pd.read_csv('C:\\\\Users\\\\ryanm\\\\OneDrive\\\\Desktop\\\\deep learning\\\\assignments\\\\Deep-Learning-Assignment-2\\\\train.csv', delimiter=',')\n",
    "training_data = df_training.values[:,0]\n",
    "training_labels = np.array(df_training.values[:, 1], dtype=np.float32)\n",
    "\n",
    "# Load the testing \n",
    "df_testing = pd.read_csv('C:\\\\Users\\\\ryanm\\\\OneDrive\\\\Desktop\\\\deep learning\\\\assignments\\\\Deep-Learning-Assignment-2\\\\test.csv')  \n",
    "testing_data = np.array(df_testing.values[:,0])\n",
    "testing_labels = np.array(df_testing.values[:,1], dtype=np.float32)"
   ]
  },
  {
   "cell_type": "markdown",
   "metadata": {},
   "source": [
    "Step 4: Pre-Processing training and testing data:\n",
    "\n",
    "This phase creates a new csv file with pre-processed data that can be used by each of the models it has a few functions including: \n",
    "\n",
    "- Remove any punctuation\n",
    "- make sentences lowercase\n",
    "- Remove URL's\n",
    "- Lemize words\n",
    "- Tokenise the words\n",
    "- Remove stop words\n",
    "\n"
   ]
  },
  {
   "cell_type": "code",
   "execution_count": 72,
   "metadata": {},
   "outputs": [],
   "source": [
    "import re\n",
    "import numpy as np\n",
    "import nltk\n",
    "\n",
    "# Preprocess the text: lowercase, remove special characters, tokenize\n",
    "def remove_special_characters_and_tokenise(text):\n",
    "    # Lower case the text\n",
    "    text = text.lower()\n",
    "    # Remove special characters\n",
    "    text = re.sub(r'http\\S+|www.\\S+', '', text)\n",
    "    text = re.sub(r'[^\\w\\s]', '', text)\n",
    "    # Tokenize the text\n",
    "    tokens = []\n",
    "    for word in nltk.word_tokenize(text):\n",
    "        tokens.extend(re.findall(r'\\b\\w+\\b', word))  # Split combined words into separate tokens\n",
    "    return tokens\n",
    "\n",
    "# Remove stopwords\n",
    "def remove_stopwords(tokens):\n",
    "    stopwords = set(nltk.corpus.stopwords.words('english'))\n",
    "    return [word for word in tokens if word not in stopwords]\n",
    "\n",
    "# Lemmatization\n",
    "def perform_lemmatization(tokens):\n",
    "    lemmatizer = nltk.stem.WordNetLemmatizer()\n",
    "    return [lemmatizer.lemmatize(token) for token in tokens]\n",
    "\n",
    "# Clean the sentence: Apply the cleaning process to a single sentence\n",
    "def clean_sentence(sentence):\n",
    "    tokens = remove_special_characters_and_tokenise(sentence)\n",
    "    tokens = remove_stopwords(tokens)\n",
    "    tokens = perform_lemmatization(tokens)\n",
    "    return tokens\n",
    "\n",
    "# Preprocess the data: Apply the cleaning process to all sentences in data\n",
    "def pre_process_data(data):\n",
    "    token_arrays = []  \n",
    "    for sentence in data:\n",
    "        tokens = clean_sentence(sentence)\n",
    "        token_arrays.append(np.array(tokens))\n",
    "    return token_arrays"
   ]
  },
  {
   "cell_type": "code",
   "execution_count": 75,
   "metadata": {},
   "outputs": [
    {
     "name": "stdout",
     "output_type": "stream",
     "text": [
      "['seanmdav' 'breaking' 'trumpliedamericansdied' 'realdonaldtrump' 'knew'\n",
      " 'covid19' 'airborne' 'chose' 'come' 'forward' 'information'\n",
      " 'trumpdeathtoll200k']\n",
      "['cdc' 'currently' 'report' '99031' 'death' 'general' 'discrepancy'\n",
      " 'death' 'count' 'different' 'source' 'small' 'explicable' 'death' 'toll'\n",
      " 'stand' 'roughly' '100000' 'people' 'today']\n"
     ]
    }
   ],
   "source": [
    "X_train_tokens = pre_process_data(training_data)\n",
    "X_test_tokens = pre_process_data(testing_data)\n",
    "\n",
    "# does not tokenize names and countries properly yet need to add additional pre-processing steps\n",
    "# print (X_test_tokens[0])\n",
    "# print (X_train_tokens[0])"
   ]
  },
  {
   "cell_type": "markdown",
   "metadata": {},
   "source": [
    "Create token embeddings for each of the pre-processed words using pre-trained word vectors glove"
   ]
  },
  {
   "cell_type": "code",
   "execution_count": 76,
   "metadata": {},
   "outputs": [],
   "source": [
    "# here I am embedding each of the post-processed sentences into there glove representation\n",
    "def embed_text_glove(tokens):\n",
    "    embedded_text = []\n",
    "    for sentence in tokens:\n",
    "        embedded_sentence = []\n",
    "        for word in sentence:\n",
    "            try:\n",
    "                embedded_word = glove[word]\n",
    "                embedded_sentence.append(embedded_word)\n",
    "            except KeyError:\n",
    "                pass\n",
    "        embedded_text.append(embedded_sentence)\n",
    "    return embedded_text"
   ]
  },
  {
   "cell_type": "code",
   "execution_count": 78,
   "metadata": {},
   "outputs": [
    {
     "name": "stdout",
     "output_type": "stream",
     "text": [
      "<class 'list'>\n"
     ]
    }
   ],
   "source": [
    "X_train_glove_embedded = embed_text_glove(X_train_tokens) \n",
    "X_test_glove_embedded = embed_text_glove(X_test_tokens)\n",
    "\n",
    "print (type(X_train_glove_embedded))"
   ]
  },
  {
   "cell_type": "markdown",
   "metadata": {},
   "source": [
    "Apply padding to the embedded words\n"
   ]
  },
  {
   "cell_type": "code",
   "execution_count": 94,
   "metadata": {},
   "outputs": [],
   "source": [
    "import numpy as np\n",
    "from keras.preprocessing.sequence import pad_sequences\n",
    "\n",
    "def embed_text_glove(data, max_length): \n",
    "\n",
    "    padded_data = pad_sequences(data, maxlen=max_length, padding='post', dtype='float32')\n",
    "    return np.array(padded_data)\n"
   ]
  },
  {
   "cell_type": "code",
   "execution_count": 95,
   "metadata": {},
   "outputs": [
    {
     "name": "stdout",
     "output_type": "stream",
     "text": [
      "(2000, 835, 300)\n",
      "(500, 835, 300)\n"
     ]
    }
   ],
   "source": [
    "max_words_per_sentence = max(len(sentence) for sentence in X_train_glove_embedded)\n",
    "X_train_glove_embedded = embed_text_glove(X_train_glove_embedded, max_words_per_sentence)\n",
    "X_test_glove_embedded = embed_text_glove(X_test_glove_embedded, max_words_per_sentence)\n",
    "\n",
    "print (X_train_glove_embedded.shape) # the max setnence length for training is 835 which is a\n",
    "print (X_test_glove_embedded.shape) # The max sentence length for testing is 47\n",
    "\n"
   ]
  },
  {
   "cell_type": "markdown",
   "metadata": {},
   "source": [
    "Create a function which creates the model"
   ]
  },
  {
   "cell_type": "code",
   "execution_count": 96,
   "metadata": {},
   "outputs": [
    {
     "name": "stderr",
     "output_type": "stream",
     "text": [
      "c:\\Users\\ryanm\\anaconda3\\Lib\\site-packages\\keras\\src\\layers\\core\\dense.py:88: UserWarning: Do not pass an `input_shape`/`input_dim` argument to a layer. When using Sequential models, prefer using an `Input(shape)` object as the first layer in the model instead.\n",
      "  super().__init__(activity_regularizer=activity_regularizer, **kwargs)\n"
     ]
    },
    {
     "name": "stdout",
     "output_type": "stream",
     "text": [
      "Epoch 1/10\n",
      "\u001b[1m8/8\u001b[0m \u001b[32m━━━━━━━━━━━━━━━━━━━━\u001b[0m\u001b[37m\u001b[0m \u001b[1m5s\u001b[0m 230ms/step - accuracy: 0.5646 - loss: 1750.1368 - val_accuracy: 0.7600 - val_loss: 530.5511\n",
      "Epoch 2/10\n",
      "\u001b[1m8/8\u001b[0m \u001b[32m━━━━━━━━━━━━━━━━━━━━\u001b[0m\u001b[37m\u001b[0m \u001b[1m1s\u001b[0m 109ms/step - accuracy: 0.6803 - loss: 581.3984 - val_accuracy: 0.7250 - val_loss: 951.2496\n",
      "Epoch 3/10\n",
      "\u001b[1m8/8\u001b[0m \u001b[32m━━━━━━━━━━━━━━━━━━━━\u001b[0m\u001b[37m\u001b[0m \u001b[1m1s\u001b[0m 64ms/step - accuracy: 0.7149 - loss: 782.1542 - val_accuracy: 0.7525 - val_loss: 550.4658\n",
      "Epoch 4/10\n",
      "\u001b[1m8/8\u001b[0m \u001b[32m━━━━━━━━━━━━━━━━━━━━\u001b[0m\u001b[37m\u001b[0m \u001b[1m1s\u001b[0m 59ms/step - accuracy: 0.6819 - loss: 469.0221 - val_accuracy: 0.7375 - val_loss: 506.7071\n",
      "Epoch 5/10\n",
      "\u001b[1m8/8\u001b[0m \u001b[32m━━━━━━━━━━━━━━━━━━━━\u001b[0m\u001b[37m\u001b[0m \u001b[1m1s\u001b[0m 56ms/step - accuracy: 0.7476 - loss: 516.1470 - val_accuracy: 0.7450 - val_loss: 462.9381\n",
      "Epoch 6/10\n",
      "\u001b[1m8/8\u001b[0m \u001b[32m━━━━━━━━━━━━━━━━━━━━\u001b[0m\u001b[37m\u001b[0m \u001b[1m1s\u001b[0m 58ms/step - accuracy: 0.7210 - loss: 405.6280 - val_accuracy: 0.7375 - val_loss: 384.9035\n",
      "Epoch 7/10\n",
      "\u001b[1m8/8\u001b[0m \u001b[32m━━━━━━━━━━━━━━━━━━━━\u001b[0m\u001b[37m\u001b[0m \u001b[1m1s\u001b[0m 64ms/step - accuracy: 0.7347 - loss: 429.4532 - val_accuracy: 0.7250 - val_loss: 595.2640\n",
      "Epoch 8/10\n",
      "\u001b[1m8/8\u001b[0m \u001b[32m━━━━━━━━━━━━━━━━━━━━\u001b[0m\u001b[37m\u001b[0m \u001b[1m1s\u001b[0m 56ms/step - accuracy: 0.7304 - loss: 497.4135 - val_accuracy: 0.7650 - val_loss: 341.1366\n",
      "Epoch 9/10\n",
      "\u001b[1m8/8\u001b[0m \u001b[32m━━━━━━━━━━━━━━━━━━━━\u001b[0m\u001b[37m\u001b[0m \u001b[1m1s\u001b[0m 55ms/step - accuracy: 0.7011 - loss: 377.4572 - val_accuracy: 0.7725 - val_loss: 481.2650\n",
      "Epoch 10/10\n",
      "\u001b[1m8/8\u001b[0m \u001b[32m━━━━━━━━━━━━━━━━━━━━\u001b[0m\u001b[37m\u001b[0m \u001b[1m1s\u001b[0m 57ms/step - accuracy: 0.6998 - loss: 493.6753 - val_accuracy: 0.7400 - val_loss: 397.6986\n"
     ]
    },
    {
     "data": {
      "text/plain": [
       "<keras.src.callbacks.history.History at 0x23b29b23ad0>"
      ]
     },
     "execution_count": 96,
     "metadata": {},
     "output_type": "execute_result"
    }
   ],
   "source": [
    "from keras.models import Sequential\n",
    "from keras.layers import Dense, Flatten, Dropout\n",
    "import numpy as np\n",
    "from keras import regularizers\n",
    "from keras.optimizers import Adam\n",
    "\n",
    "# flatten the embeddings vector represenetaiton\n",
    "flattend_training_data = X_train_glove_embedded.reshape(X_train_glove_embedded.shape[0], -1)\n",
    "\n",
    "# Define the MLP model\n",
    "model = Sequential()\n",
    "model.add(Dense(32, activation='relu', kernel_regularizer=regularizers.l1(0.01), input_shape=(flattend_training_data.shape[1],)))\n",
    "model.add(Dropout(0.5))\n",
    "model.add(Dense(16, activation='relu', kernel_regularizer=regularizers.l1(0.01)))\n",
    "model.add(Dense(1, activation='sigmoid'))  # Assuming binary classification\n",
    "\n",
    "# Compile the model\n",
    "learning_rate = 0.025\n",
    "optimizer = Adam(learning_rate=learning_rate)\n",
    "model.compile(optimizer=optimizer, loss='binary_crossentropy', metrics=['accuracy'])\n",
    "training_labels = np.array(training_labels, dtype=np.float32)\n",
    "\n",
    "# Train the model\n",
    "model.fit(flattend_training_data, training_labels, epochs=300, batch_size=100, validation_split=0.2)\n",
    "\n",
    "\n"
   ]
  },
  {
   "cell_type": "code",
   "execution_count": 97,
   "metadata": {},
   "outputs": [
    {
     "data": {
      "image/png": "[encoded data removed]",
      "text/plain": [
       "<Figure size 640x480 with 1 Axes>"
      ]
     },
     "metadata": {},
     "output_type": "display_data"
    },
    {
     "data": {
      "image/png": "[encoded data removed]",
      "text/plain": [
       "<Figure size 640x480 with 1 Axes>"
      ]
     },
     "metadata": {},
     "output_type": "display_data"
    }
   ],
   "source": [
    "import matplotlib.pyplot as plt\n",
    "\n",
    "# Plot training & validation loss values\n",
    "plt.plot(model.history.history['loss'])\n",
    "plt.plot(model.history.history['val_loss'])\n",
    "plt.title('Model Loss')\n",
    "plt.ylabel('Loss')\n",
    "plt.xlabel('Epoch')\n",
    "plt.legend(['Train', 'Validation'], loc='upper left')\n",
    "plt.show()\n",
    "\n",
    "# Plot training & validation accuracy values\n",
    "plt.plot(model.history.history['accuracy'])\n",
    "plt.plot(model.history.history['val_accuracy'])\n",
    "plt.title('Model Accuracy')\n",
    "plt.ylabel('Accuracy')\n",
    "plt.xlabel('Epoch')\n",
    "plt.legend(['Train', 'Validation'], loc='upper left')\n",
    "plt.show()\n"
   ]
  },
  {
   "cell_type": "markdown",
   "metadata": {},
   "source": [
    "loss = model.evaluate(, y_training)\n",
    "print(\"Loss:\", loss)\n"
   ]
  },
  {
   "cell_type": "code",
   "execution_count": 103,
   "metadata": {},
   "outputs": [
    {
     "name": "stdout",
     "output_type": "stream",
     "text": [
      "(500, 250500)\n",
      "(500,)\n",
      "\u001b[1m16/16\u001b[0m \u001b[32m━━━━━━━━━━━━━━━━━━━━\u001b[0m\u001b[37m\u001b[0m \u001b[1m0s\u001b[0m 6ms/step - accuracy: 0.7507 - loss: 397.6945\n",
      "Loss: 397.6869812011719\n"
     ]
    }
   ],
   "source": [
    "X_test_glove_embedded = X_test_glove_embedded.reshape(X_test_glove_embedded.shape[0], -1)\n",
    "print (X_test_glove_embedded.shape)\n",
    "print (testing_labels.shape)\n",
    "testing_labels = np.array(testing_labels, dtype=np.float32)\n",
    "loss, accuracy = model.evaluate(X_test_glove_embedded, testing_labels)\n",
    "print(\"Loss:\", loss)"
   ]
  },
  {
   "cell_type": "markdown",
   "metadata": {},
   "source": [
    "Using test data to see model performance: This validation and training perfromacne proves that there is overfitting in the model. It seems after experimenation that a standard MLP is not fit for the task of determining false information or true information. I tried changing model hyper parameters such as batch size, and learning rate as well as changing model archetecture as I believe that the model was not performing well due to being to complex but perhaps I was wrong."
   ]
  },
  {
   "cell_type": "code",
   "execution_count": null,
   "metadata": {},
   "outputs": [],
   "source": []
  },
  {
   "cell_type": "markdown",
   "metadata": {},
   "source": [
    "Now I will try the model using the keras embedding layer instead of just flattening the text embeddings. "
   ]
  },
  {
   "cell_type": "code",
   "execution_count": 135,
   "metadata": {},
   "outputs": [
    {
     "name": "stdout",
     "output_type": "stream",
     "text": [
      "[69, 189, 223, 3470, 7, 213, 3471, 59, 855, 326, 1033, 432, 3472, 59, 541, 462, 1631, 1272, 5, 20]\n"
     ]
    }
   ],
   "source": [
    "from keras.models import Sequential\n",
    "from keras.layers import Dense, Dropout, Embedding, Flatten\n",
    "from keras.optimizers import Adam\n",
    "from keras.preprocessing.sequence import pad_sequences\n",
    "import numpy as np\n",
    "from tensorflow.keras.preprocessing.text import Tokenizer\n",
    "\n",
    "\n",
    "# Convert text data to sequences of word indices\n",
    "\n",
    "tokenizer = Tokenizer()\n",
    "\n",
    "tokenizer.fit_on_texts(training_data)\n",
    "\n",
    "word_indices = tokenizer.fit_on_texts(training_data)\n",
    "word_indices = tokenizer.texts_to_sequences(training_data)\n",
    "\n",
    "# Pad sequences to ensure uniform length\n",
    "max_sequence_length = 100  # Adjust as needed\n",
    "padded_sequences = pad_sequences(word_indices, maxlen=max_sequence_length)\n",
    "\n",
    "# Define the MLP model\n",
    "model = Sequential()\n",
    "model.add(Embedding(input_dim=len(word_indices), output_dim=word, input_length=max_sequence_length))\n",
    "model.add(Flatten())\n",
    "model.add(Dense(32, activation='relu', kernel_regularizer='l1'))\n",
    "model.add(Dropout(0.5))\n",
    "model.add(Dense(16, activation='relu', kernel_regularizer='l1'))\n",
    "model.add(Dense(1, activation='sigmoid'))  # Assuming binary classification\n",
    "\n",
    "# Compile the model\n",
    "learning_rate = 0.05\n",
    "optimizer = Adam(learning_rate=learning_rate)\n",
    "model.compile(optimizer=optimizer, loss='binary_crossentropy', metrics=['accuracy'])\n",
    "\n",
    "# Convert training labels to numpy array\n",
    "training_labels = np.array(training_labels, dtype=np.float32)\n",
    "\n",
    "# Train the model\n",
    "model.fit(padded_sequences, training_labels, epochs=100, batch_size=200, validation_split=0.2)"
   ]
  },
  {
   "cell_type": "markdown",
   "metadata": {},
   "source": []
  },
  {
   "cell_type": "code",
   "execution_count": null,
   "metadata": {},
   "outputs": [],
   "source": []
  },
  {
   "cell_type": "code",
   "execution_count": null,
   "metadata": {},
   "outputs": [],
   "source": []
  }
 ],
 "metadata": {
  "kernelspec": {
   "display_name": "base",
   "language": "python",
   "name": "python3"
  },
  "language_info": {
   "codemirror_mode": {
    "name": "ipython",
    "version": 3
   },
   "file_extension": ".py",
   "mimetype": "text/x-python",
   "name": "python",
   "nbconvert_exporter": "python",
   "pygments_lexer": "ipython3",
   "version": "3.11.7"
  }
 },
 "nbformat": 4,
 "nbformat_minor": 2
}
